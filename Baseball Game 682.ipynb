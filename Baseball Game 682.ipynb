{
 "cells": [
  {
   "cell_type": "markdown",
   "id": "495f5f61",
   "metadata": {},
   "source": [
    "You are keeping the scores for a baseball game with strange rules. At the beginning of the game, you start with an empty record.\n",
    "\n",
    "You are given a list of strings operations, where operations[i] is the ith operation you must apply to the record and is one of the following:\n",
    "\n",
    "An integer x.\n",
    "Record a new score of x.\n",
    "'+'.\n",
    "Record a new score that is the sum of the previous two scores.\n",
    "'D'.\n",
    "Record a new score that is the double of the previous score.\n",
    "'C'.\n",
    "Invalidate the previous score, removing it from the record.\n",
    "Return the sum of all the scores on the record after applying all the operations.\n",
    "\n",
    "The test cases are generated such that the answer and all intermediate calculations fit in a 32-bit integer and that all operations are valid.\n",
    "\n",
    "Example 1:\n",
    "\n",
    "Input: ops = [\"5\",\"2\",\"C\",\"D\",\"+\"]\n",
    "Output: 30\n",
    "Explanation:\n",
    "\"5\" - Add 5 to the record, record is now [5].\n",
    "\"2\" - Add 2 to the record, record is now [5, 2].\n",
    "\"C\" - Invalidate and remove the previous score, record is now [5].\n",
    "\"D\" - Add 2 * 5 = 10 to the record, record is now [5, 10].\n",
    "\"+\" - Add 5 + 10 = 15 to the record, record is now [5, 10, 15].\n",
    "The total sum is 5 + 10 + 15 = 30. "
   ]
  },
  {
   "cell_type": "code",
   "execution_count": 7,
   "id": "ec1653d2",
   "metadata": {},
   "outputs": [],
   "source": [
    "#We will use stack. Because our operations will be done in the last part. If we didn't operate on the last line we would use the queue.\n",
    "class Solution(object):\n",
    "    def calPoints(self,mylist):\n",
    "        myStack=[]\n",
    "    \n",
    "        for i in mylist:\n",
    "            if i ==\"+\":\n",
    "                myStack.append(myStack[-1]+myStack[-2])\n",
    "            elif i ==\"C\":\n",
    "                myStack.pop()\n",
    "            elif i ==\"D\":\n",
    "                myStack.append(myStack[-1]*2)\n",
    "            else:\n",
    "                myStack.append(int(i))\n",
    "            \n",
    "        return sum(myStack)        \n"
   ]
  },
  {
   "cell_type": "code",
   "execution_count": null,
   "id": "60d85190",
   "metadata": {},
   "outputs": [],
   "source": []
  }
 ],
 "metadata": {
  "kernelspec": {
   "display_name": "Python 3 (ipykernel)",
   "language": "python",
   "name": "python3"
  },
  "language_info": {
   "codemirror_mode": {
    "name": "ipython",
    "version": 3
   },
   "file_extension": ".py",
   "mimetype": "text/x-python",
   "name": "python",
   "nbconvert_exporter": "python",
   "pygments_lexer": "ipython3",
   "version": "3.9.13"
  }
 },
 "nbformat": 4,
 "nbformat_minor": 5
}
